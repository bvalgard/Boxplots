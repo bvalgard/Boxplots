{
 "cells": [
  {
   "cell_type": "markdown",
   "metadata": {},
   "source": [
    "# Boxplots with Python / Seaborn"
   ]
  },
  {
   "cell_type": "markdown",
   "metadata": {},
   "source": [
    "Check out my YouTube explanation <br>\n",
    "https://youtu.be/IdksHfKJL2A"
   ]
  },
  {
   "cell_type": "markdown",
   "metadata": {},
   "source": [
    "We are going to create boxplots with Seaborn. <br> \n",
    "We'll start off by importing the necessary libraries. <br>\n",
    "NOTE: You may need to include %matplotlib inline if your charts are not appearing <br>\n",
    "NOTE: If you are not doing creating your boxplots outside of Jupyter you will have to include plt.show() at the end of your code for each graph. "
   ]
  },
  {
   "cell_type": "code",
   "execution_count": 1,
   "metadata": {},
   "outputs": [],
   "source": [
    "import pandas as pd\n",
    "import numpy as np\n",
    "import matplotlib.pyplot as plt\n",
    "import seaborn as sns\n",
    "# %matplotlib inline"
   ]
  },
  {
   "cell_type": "markdown",
   "metadata": {},
   "source": [
    "I have made some fake data to create our boxplots."
   ]
  },
  {
   "cell_type": "code",
   "execution_count": 2,
   "metadata": {},
   "outputs": [],
   "source": [
    "df = pd.read_csv('box_plt_data.csv')"
   ]
  },
  {
   "cell_type": "markdown",
   "metadata": {},
   "source": [
    "The data includes 5 products and customer satisfaction on each. <br>\n",
    "Customer satisfaction is made up of multiple questions combined into a single scale. "
   ]
  },
  {
   "cell_type": "code",
   "execution_count": 3,
   "metadata": {},
   "outputs": [
    {
     "data": {
      "text/html": [
       "<div>\n",
       "<style scoped>\n",
       "    .dataframe tbody tr th:only-of-type {\n",
       "        vertical-align: middle;\n",
       "    }\n",
       "\n",
       "    .dataframe tbody tr th {\n",
       "        vertical-align: top;\n",
       "    }\n",
       "\n",
       "    .dataframe thead th {\n",
       "        text-align: right;\n",
       "    }\n",
       "</style>\n",
       "<table border=\"1\" class=\"dataframe\">\n",
       "  <thead>\n",
       "    <tr style=\"text-align: right;\">\n",
       "      <th></th>\n",
       "      <th>p1_satisfaction</th>\n",
       "      <th>p2_satisfaction</th>\n",
       "      <th>p3_satisfaction</th>\n",
       "      <th>p4_satisfaction</th>\n",
       "      <th>p5_satisfaction</th>\n",
       "    </tr>\n",
       "  </thead>\n",
       "  <tbody>\n",
       "    <tr>\n",
       "      <th>0</th>\n",
       "      <td>3.8</td>\n",
       "      <td>3.67</td>\n",
       "      <td>3.26</td>\n",
       "      <td>3.67</td>\n",
       "      <td>4.00</td>\n",
       "    </tr>\n",
       "    <tr>\n",
       "      <th>1</th>\n",
       "      <td>4.0</td>\n",
       "      <td>4.36</td>\n",
       "      <td>3.40</td>\n",
       "      <td>4.36</td>\n",
       "      <td>3.00</td>\n",
       "    </tr>\n",
       "    <tr>\n",
       "      <th>2</th>\n",
       "      <td>4.4</td>\n",
       "      <td>2.96</td>\n",
       "      <td>2.54</td>\n",
       "      <td>2.96</td>\n",
       "      <td>3.25</td>\n",
       "    </tr>\n",
       "    <tr>\n",
       "      <th>3</th>\n",
       "      <td>3.8</td>\n",
       "      <td>3.90</td>\n",
       "      <td>3.31</td>\n",
       "      <td>3.90</td>\n",
       "      <td>3.75</td>\n",
       "    </tr>\n",
       "    <tr>\n",
       "      <th>4</th>\n",
       "      <td>4.2</td>\n",
       "      <td>4.04</td>\n",
       "      <td>3.26</td>\n",
       "      <td>4.04</td>\n",
       "      <td>4.25</td>\n",
       "    </tr>\n",
       "  </tbody>\n",
       "</table>\n",
       "</div>"
      ],
      "text/plain": [
       "   p1_satisfaction  p2_satisfaction  p3_satisfaction  p4_satisfaction  \\\n",
       "0              3.8             3.67             3.26             3.67   \n",
       "1              4.0             4.36             3.40             4.36   \n",
       "2              4.4             2.96             2.54             2.96   \n",
       "3              3.8             3.90             3.31             3.90   \n",
       "4              4.2             4.04             3.26             4.04   \n",
       "\n",
       "   p5_satisfaction  \n",
       "0             4.00  \n",
       "1             3.00  \n",
       "2             3.25  \n",
       "3             3.75  \n",
       "4             4.25  "
      ]
     },
     "execution_count": 3,
     "metadata": {},
     "output_type": "execute_result"
    }
   ],
   "source": [
    "df.head()"
   ]
  },
  {
   "cell_type": "markdown",
   "metadata": {},
   "source": [
    "To create the most basic boxplot we can use sns.boxplot and include the iterable data. In this case it is our dataframe column, but it could be a numpy array or list as well. Usually I'm all about matplotlib because of ALL THE CONTROL (insert evil laugh here). However, with boxplots I usually just go straight to seaborn. I usually don't make my boxplots look too amazing, becasue I find non data inclined folk tend to be intimidated by boxplots. So I rarely create boxplots for offical reports. Boxplots can be great for those who have experience interpreting boxplots. "
   ]
  },
  {
   "cell_type": "code",
   "execution_count": 4,
   "metadata": {},
   "outputs": [
    {
     "data": {
      "text/plain": [
       "<matplotlib.axes._subplots.AxesSubplot at 0x1ae14d60>"
      ]
     },
     "execution_count": 4,
     "metadata": {},
     "output_type": "execute_result"
    },
    {
     "data": {
      "image/png": "[encoded data removed]",
      "text/plain": [
       "<Figure size 432x288 with 1 Axes>"
      ]
     },
     "metadata": {
      "needs_background": "light"
     },
     "output_type": "display_data"
    }
   ],
   "source": [
    "sns.boxplot(df['p1_satisfaction'])\n",
    "# in jupyter notebooks plt.show() is optional\n",
    "# plt.show() "
   ]
  },
  {
   "cell_type": "markdown",
   "metadata": {},
   "source": [
    "We can change the orientation of the box plot by including the argument <br> <code>orient='v'<code>"
   ]
  },
  {
   "cell_type": "code",
   "execution_count": 5,
   "metadata": {},
   "outputs": [
    {
     "data": {
      "text/plain": [
       "<matplotlib.axes._subplots.AxesSubplot at 0x1bebcfd0>"
      ]
     },
     "execution_count": 5,
     "metadata": {},
     "output_type": "execute_result"
    },
    {
     "data": {
      "image/png": "[encoded data removed]",
      "text/plain": [
       "<Figure size 432x288 with 1 Axes>"
      ]
     },
     "metadata": {
      "needs_background": "light"
     },
     "output_type": "display_data"
    }
   ],
   "source": [
    "sns.boxplot(df['p1_satisfaction'], orient='v')"
   ]
  },
  {
   "cell_type": "markdown",
   "metadata": {},
   "source": [
    "There we go, and ugly boxplot with Seaborn. <br>\n",
    "Don't worry, we can make our box plot look really nice without too much effort. <br>\n",
    "we are going to use matplotlib a little here to help us out. "
   ]
  },
  {
   "cell_type": "code",
   "execution_count": 6,
   "metadata": {
    "scrolled": true
   },
   "outputs": [
    {
     "data": {
      "image/png": "[encoded data removed]",
      "text/plain": [
       "<Figure size 720x144 with 1 Axes>"
      ]
     },
     "metadata": {},
     "output_type": "display_data"
    }
   ],
   "source": [
    "# set style - I like the clean look of white\n",
    "sns.set(style='white')\n",
    "\n",
    "# set figure size (check in word doc - jupyter can be misleading with size)\n",
    "fig, ax = plt.subplots(figsize=(10,2))\n",
    "\n",
    "# Create box plot\n",
    "# if you like notched boxplots you can add one with the argument notch=True\n",
    "# sns.boxplot(df['p1_satisfaction'], color=\"plum\", width=.5, notch=True) \n",
    "\n",
    "# I don't like notched boxplots so I'm not going to add it\n",
    "sns.boxplot(df['p1_satisfaction'], color=\"plum\", width=.5) \n",
    "\n",
    "# Title and x-label\n",
    "plt.title('Insightful Boxplot Title', fontsize=14)\n",
    "plt.xlabel('Satisfaction')\n",
    "\n",
    "# remove top and right borders\n",
    "sns.despine()\n",
    "\n",
    "# Show full range of possible values on x-axis (otherwise it is truncated at 1.5)\n",
    "# ax.set(xlim=(1,5)) # this is an alternative way \n",
    "plt.xlim([1,5])\n",
    "plt.xticks(np.arange(1,6,1))\n",
    "\n",
    "# Strongly Disagree & Strongly Agree Text\n",
    "props = dict(boxstyle='round', facecolor='plum', alpha=0.2) # Set the box color/style aroung SD & SA\n",
    "ax.text(1.1, 0.4, \"Strongly Disagree\", fontsize=12, bbox=props)\n",
    "ax.text(4.5, 0.4, \"Strongly Agree\", fontsize=12, bbox=props)\n",
    "\n",
    "# tight_layout() will help us fit everything in the figure\n",
    "plt.tight_layout()\n",
    "# optional save figure\n",
    "# plt.savefig('sat_box_p1.png', transparent=True, dpi=300)\n",
    "plt.show()"
   ]
  },
  {
   "cell_type": "markdown",
   "metadata": {},
   "source": [
    "We can add multiple boxplots to one figure for easy comparison. "
   ]
  },
  {
   "cell_type": "code",
   "execution_count": 9,
   "metadata": {},
   "outputs": [
    {
     "data": {
      "image/png": "[encoded data removed]",
      "text/plain": [
       "<Figure size 576x432 with 1 Axes>"
      ]
     },
     "metadata": {},
     "output_type": "display_data"
    }
   ],
   "source": [
    "# set style - When adding multple boxplots I like use whitegird \n",
    "sns.set(style='whitegrid')\n",
    "\n",
    "fig, ax = plt.subplots(figsize=(8,6))\n",
    "\n",
    "g = sns.boxplot(data=df, width=0.7)#notch=True, ) # df[['p1_satisfaction','p2_satisfaction','p3_satisfaction']]\n",
    "\n",
    "# Titles and labels\n",
    "plt.title(\"Another Insightful Title\", fontsize=16)\n",
    "# xlabel is probably not necessary with the product names included for each product\n",
    "# plt.xlabel(\"product\", fontsize=14)\n",
    "# with a descriptive title a ylabel might not be necessary\n",
    "# plt.ylabel(\"Score (1-5)\", fontsize=14)\n",
    "\n",
    "# X tick-labels\n",
    "# we are including this because I want the full product name not the variable name\n",
    "xvalues = [\"product 1\\nsatisfaction\",\"product 2\\nsatisfaction\",\"product 3\\nsatisfaction\",\n",
    "           \"product 4\\nsatisfaction\",\"product 5\\nsatisfaction\"] \n",
    "\n",
    "# set xvalues as xtick values\n",
    "plt.xticks(np.arange(5), xvalues)\n",
    "\n",
    "# set y-axis values (I only want whole numbers)\n",
    "plt.yticks(plt.yticks(np.arange(1,6))  )\n",
    "\n",
    "# remove all borders except bottom\n",
    "sns.despine(top=True,\n",
    "            right=True,\n",
    "            left=True,\n",
    "            bottom=False)\n",
    "\n",
    "# Set colors of box plots \n",
    "# https://cmdlinetips.com/2018/11/how-to-assign-specific-colors-to-boxplots-in-seaborn/\n",
    "palette= ['plum','g','orange','b','r']\n",
    "color_dict = dict(zip(xvalues, palette))\n",
    "for i in range(0,5):\n",
    "    mybox = g.artists[i]\n",
    "    mybox.set_facecolor(color_dict[xvalues[i]])\n",
    "\n",
    "### Provide mean and standard deviation for each product ###   \n",
    "# Text p1\n",
    "mean = round(df['p1_satisfaction'].mean(),1)\n",
    "sd = round(df['p1_satisfaction'].std(),1)\n",
    "textstr = \"$\\overline {x}$\" + f\" = {mean} \\ns = {sd}\"\n",
    "props = dict(boxstyle='round', facecolor='plum', alpha=0.2)\n",
    "g.text(-0.19, 1.1, textstr, fontsize=12, bbox=props)\n",
    "\n",
    "# Text p2\n",
    "mean = round(df['p2_satisfaction'].mean(),1)\n",
    "sd = round(df['p2_satisfaction'].std(),1)\n",
    "textstr = \"$\\overline {x}$\" + f\" = {mean} \\ns = {sd}\"\n",
    "props = dict(boxstyle='round', facecolor='g', alpha=0.2)\n",
    "g.text(.81, 1.1, textstr, fontsize=12, bbox=props)\n",
    "\n",
    "# Text p3\n",
    "mean = round(df['p3_satisfaction'].mean(),1)\n",
    "sd = round(df['p3_satisfaction'].std(),1)\n",
    "textstr = \"$\\overline {x}$\" + f\" = {mean} \\ns = {sd}\"\n",
    "props = dict(boxstyle='round', facecolor='orange', alpha=0.2)\n",
    "g.text(1.81, 1.1, textstr, fontsize=12, bbox=props)\n",
    "\n",
    "# Text p4\n",
    "mean = round(df['p4_satisfaction'].mean(),1)\n",
    "sd = round(df['p4_satisfaction'].std(),1)\n",
    "textstr = \"$\\overline {x}$\" + f\" = {mean} \\ns = {sd}\"\n",
    "props = dict(boxstyle='round', facecolor='b', alpha=0.2)\n",
    "g.text(2.81, 1.1, textstr, fontsize=12, bbox=props) # 2 for y but covers diamond\n",
    "\n",
    "# Text p5\n",
    "mean = round(df['p5_satisfaction'].mean(),1)\n",
    "sd = round(df['p5_satisfaction'].std(),1)\n",
    "textstr = \"$\\overline {x}$\" + f\" = {mean} \\ns = {sd}\"\n",
    "props = dict(boxstyle='round', facecolor='r', alpha=0.2)\n",
    "g.text(3.81, 1.1, textstr, fontsize=12, bbox=props)\n",
    "\n",
    "    \n",
    "plt.tight_layout()\n",
    "# plt.savefig('all_sat_boxplots.png', dpi=500)\n",
    "plt.show()"
   ]
  },
  {
   "cell_type": "markdown",
   "metadata": {},
   "source": [
    "Hey! This looks pretty good. One problem is that all this color is distracting. <br> \n",
    "Further, if these products actually had names (other than product 1, product 2, etc.) the order of the boxplots doesn't help us interpret the data. Also, including the mean is confusing because the boxplot marks the median. <br>\n",
    "If we want to help focus the viewers attention and help their interpretation we can make some changes to color and ordering of the boxplots. "
   ]
  },
  {
   "cell_type": "code",
   "execution_count": 11,
   "metadata": {},
   "outputs": [
    {
     "data": {
      "image/png": "[encoded data removed]",
      "text/plain": [
       "<Figure size 576x432 with 1 Axes>"
      ]
     },
     "metadata": {},
     "output_type": "display_data"
    }
   ],
   "source": [
    "# reordering columns in decending value of the median\n",
    "df_ordered = df[['p1_satisfaction','p5_satisfaction','p4_satisfaction','p2_satisfaction','p3_satisfaction']]\n",
    "\n",
    "# set style I like the clean look of white\n",
    "sns.set(style='whitegrid')\n",
    "\n",
    "fig, ax = plt.subplots(figsize=(8,6))\n",
    "\n",
    "g = sns.boxplot(data=df_ordered, width=0.7)\n",
    "\n",
    "plt.title(\"Another Insightful Title\", fontsize=16)\n",
    "\n",
    "### CHANGE ORDER to match dataframe ###\n",
    "# X labels\n",
    "xvalues = [\"product 1\\nsatisfaction\",\"product 5\\nsatisfaction\",\"product 4\\nsatisfaction\",\n",
    "           \"product 2\\nsatisfaction\",\"product 3\\nsatisfaction\"] \n",
    "\n",
    "# x-labels\n",
    "plt.xticks(np.arange(5), xvalues)\n",
    "\n",
    "# setting y values\n",
    "plt.yticks(plt.yticks(np.arange(1,6)))\n",
    "\n",
    "# remove borders\n",
    "sns.despine(top=True,\n",
    "            right=True,\n",
    "            left=True,\n",
    "            bottom=False)\n",
    "\n",
    "### CHANGE ORDER #### ### CHANGE X coordinates ###, change median, change textstr\n",
    "\n",
    "# https://cmdlinetips.com/2018/11/how-to-assign-specific-colors-to-boxplots-in-seaborn/\n",
    "# Set colors of box plots \n",
    "palette= ['#B7C3D0','#B7C3D0','#B7C3D0','#B7C3D0','#FF6A6A']\n",
    "color_dict = dict(zip(xvalues, palette))\n",
    "for i in range(0,5):\n",
    "    mybox = g.artists[i]\n",
    "    mybox.set_facecolor(color_dict[xvalues[i]])\n",
    "    \n",
    "# Text p1\n",
    "median = round(df['p1_satisfaction'].median(),1)\n",
    "# sd = round(df['p1_satisfaction'].std(),1) ## DELETE\n",
    "textstr = r\"$\\tilde {x}$\" + f\" = {median}\"\n",
    "# props = dict(boxstyle='round', facecolor='#B7C3D0', alpha=0.2) #### delete\n",
    "g.text(-0.19, 1.1, textstr, fontsize=13,) #### delete bbox\n",
    "\n",
    "# Text p5\n",
    "median = round(df['p5_satisfaction'].median(),1)\n",
    "# sd = round(df['p5_satisfaction'].std(),1)\n",
    "textstr = r\"$\\tilde {x}$\" + f\" = {median}\"\n",
    "# props = dict(boxstyle='round', facecolor='#B7C3D0', alpha=0.2)\n",
    "g.text(.81, 1.1, textstr, fontsize=13,)\n",
    "\n",
    "# Text p4\n",
    "median = round(df['p4_satisfaction'].median(),1)\n",
    "# sd = round(df['p4_satisfaction'].std(),1)\n",
    "# textstr = f\"7 items\\n \\u03B1=.81\"\n",
    "textstr = r\"$\\tilde {x}$\" + f\" = {median}\"\n",
    "# props = dict(boxstyle='round', facecolor='#B7C3D0', alpha=0.2)\n",
    "g.text(1.81, 1.1, textstr, fontsize=13,) \n",
    "\n",
    "# Text p2\n",
    "median = round(df['p2_satisfaction'].median(),1)\n",
    "# sd = round(df['p2_satisfaction'].std(),1)\n",
    "textstr = r\"$\\tilde {x}$\" + f\" = {median}\"\n",
    "# props = dict(boxstyle='round', facecolor='#B7C3D0', alpha=0.2)\n",
    "g.text(2.81, 1.1, textstr, fontsize=13)\n",
    "\n",
    "# Text p3\n",
    "median = round(df['p3_satisfaction'].median(),1)\n",
    "# sd = round(df['p3_satisfaction'].std(),1)\n",
    "textstr = r\"$\\tilde {x}$\" + f\" = {median}\"\n",
    "# props = dict(boxstyle='round', facecolor='#FF6A6A', alpha=0.2)\n",
    "g.text(3.81, 1.1, textstr, fontsize=13,)\n",
    "   \n",
    "    \n",
    "plt.tight_layout()\n",
    "# plt.savefig('all_sat_boxplots.png', dpi=500)\n",
    "plt.show()"
   ]
  },
  {
   "cell_type": "markdown",
   "metadata": {},
   "source": [
    "Now our boxplots clearly show us that product 3 has low satisfaction (even if it is a little less pretty). <br> \n",
    "Including the median instead of the mean fits with our plot better! <br>\n",
    "Depening on your audiance it may be beter to use \"Med\" or \"Median\" to represent the median"
   ]
  }
 ],
 "metadata": {
  "kernelspec": {
   "display_name": "Python 3",
   "language": "python",
   "name": "python3"
  },
  "language_info": {
   "codemirror_mode": {
    "name": "ipython",
    "version": 3
   },
   "file_extension": ".py",
   "mimetype": "text/x-python",
   "name": "python",
   "nbconvert_exporter": "python",
   "pygments_lexer": "ipython3",
   "version": "3.8.2"
  }
 },
 "nbformat": 4,
 "nbformat_minor": 4
}
